{
 "cells": [
  {
   "cell_type": "markdown",
   "id": "c648a9d0-d701-4ce2-82a5-c2ddf5bb7736",
   "metadata": {},
   "source": [
    "# How to create a new project"
   ]
  },
  {
   "cell_type": "markdown",
   "id": "45efb9fc-5141-4ccb-b9d1-3454b6956394",
   "metadata": {},
   "source": [
    "## Short projects"
   ]
  },
  {
   "cell_type": "markdown",
   "id": "6b7a50c8-8563-4981-bdb5-3d6b0b991921",
   "metadata": {},
   "source": [
    "The structure of a simple data science reposity for small projects could be the following:"
   ]
  },
  {
   "cell_type": "code",
   "execution_count": null,
   "id": "15aa449f-1690-4963-8f06-f211dbcef017",
   "metadata": {},
   "outputs": [],
   "source": [
    "├── data\n",
    "│   ├── processed # > data preprocessed/cleaned/ results\n",
    "│   └── raw # > immutable raw data, in its original form\n",
    "├── .gitignore # > file which specifies which folder should not be tracked by git\n",
    "├── notebooks\n",
    "│   └── template_notebook.ipynb # > example notebook. When working in groups, their name should be <your initials>_meaningful_title.ipynb\n",
    "├── README.md # > the entry point for your project, explaining goals, etc\n",
    "├── reports # > structured reports in markdown format or presentations\n",
    "│   ├── img # > all images used for reports should be stored there\n",
    "│   │   └── pic01.jpg\n",
    "│   └── template_report.md\n",
    "└── src # > folder for python scripts and modules\n",
    "    └── template_module.py # > example python code with properly formatted documentation."
   ]
  },
  {
   "cell_type": "markdown",
   "id": "49be6831-484c-4488-9c86-c406fae2eb23",
   "metadata": {},
   "source": [
    "You can get the folder .zip version [here](https://github.com/mikjf/project_creation_setup/tree/main/template_project_download)."
   ]
  },
  {
   "cell_type": "markdown",
   "id": "43eb76f9-a555-4b19-b555-d718a4fb95c3",
   "metadata": {},
   "source": [
    "## Longer projects"
   ]
  },
  {
   "cell_type": "markdown",
   "id": "b0027129-9f1e-4a31-865a-836eab799c0e",
   "metadata": {},
   "source": [
    "For more longer/complex project you could leverage a cool command-line utility that creates a Python package project form a Python package project template called [cookiecutter](https://anaconda.org/conda-forge/cookiecutter)."
   ]
  },
  {
   "cell_type": "code",
   "execution_count": null,
   "id": "ed121391-fcbe-4809-bc9a-450f3b5a85e5",
   "metadata": {},
   "outputs": [],
   "source": [
    "# use this command to install cookiecutter if you are using anaconda\n",
    "conda install -c conda-forge cookiecutter"
   ]
  },
  {
   "cell_type": "code",
   "execution_count": null,
   "id": "497db082-c8a1-4f25-a917-6c1099bb6c03",
   "metadata": {},
   "outputs": [],
   "source": []
  },
  {
   "cell_type": "code",
   "execution_count": null,
   "id": "27a3ff27-1cc3-48b0-9875-ad1c9ac9c7d6",
   "metadata": {},
   "outputs": [],
   "source": []
  },
  {
   "cell_type": "code",
   "execution_count": null,
   "id": "fdec912d-8729-41ca-81ed-2f7b1602876e",
   "metadata": {},
   "outputs": [],
   "source": []
  }
 ],
 "metadata": {
  "kernelspec": {
   "display_name": "projects",
   "language": "python",
   "name": "projects"
  },
  "language_info": {
   "codemirror_mode": {
    "name": "ipython",
    "version": 3
   },
   "file_extension": ".py",
   "mimetype": "text/x-python",
   "name": "python",
   "nbconvert_exporter": "python",
   "pygments_lexer": "ipython3",
   "version": "3.10.9"
  }
 },
 "nbformat": 4,
 "nbformat_minor": 5
}
