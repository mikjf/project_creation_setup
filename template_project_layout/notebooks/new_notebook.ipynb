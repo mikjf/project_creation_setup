{
 "cells": [
  {
   "cell_type": "markdown",
   "id": "5c201e31-2064-4ab8-a1d3-41fbbd090631",
   "metadata": {},
   "source": [
    "# New notebook"
   ]
  },
  {
   "cell_type": "markdown",
   "id": "1685e827-3536-4c92-b22b-72dd25cb38fc",
   "metadata": {},
   "source": [
    "All notebooks should be in this folder."
   ]
  }
 ],
 "metadata": {
  "kernelspec": {
   "display_name": "projects",
   "language": "python",
   "name": "projects"
  },
  "language_info": {
   "codemirror_mode": {
    "name": "ipython",
    "version": 3
   },
   "file_extension": ".py",
   "mimetype": "text/x-python",
   "name": "python",
   "nbconvert_exporter": "python",
   "pygments_lexer": "ipython3",
   "version": "3.10.9"
  }
 },
 "nbformat": 4,
 "nbformat_minor": 5
}
